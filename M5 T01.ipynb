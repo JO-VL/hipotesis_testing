{
 "cells": [
  {
   "cell_type": "markdown",
   "id": "24369ef4",
   "metadata": {},
   "source": [
    "# Exercici 1\n",
    "\n",
    "### Descarrega el dataset adjunt de dades oficials de la UEFA i selecciona un atribut del conjunt de dades. Calcula el p-valor i digues si rebutja la hipòtesi nul·la agafant un alfa de 5%."
   ]
  },
  {
   "cell_type": "code",
   "execution_count": 1,
   "id": "961128ec",
   "metadata": {},
   "outputs": [
    {
     "name": "stdout",
     "output_type": "stream",
     "text": [
      "P-value: 1.0\n",
      "No hi ha una diferència significativa entre els dos grups. Acceptem H0 i rebutgem H1.\n"
     ]
    }
   ],
   "source": [
    "import pandas as pd\n",
    "from scipy.stats import ttest_ind\n",
    "from scipy.stats import pearsonr\n",
    "from scipy.stats import f_oneway\n",
    "\n",
    "df = pd.read_csv('Lligues europees UEFA.csv', engine='python',  sep=';', encoding = 'latin1')\n",
    "\n",
    "# La H0 és que el rendiment dels equips anglesos i el dels equips italians és el mateix.\n",
    "# La H1 és que no tenen el mateix rendiment.\n",
    "\n",
    "# Separem les dades dels equips de la lliga anglesa.\n",
    "eng = df[df['Country'] == 'ENG']\n",
    "\n",
    "# Separem les dades dels equips de la lliga italiana.\n",
    "ita = df[df['Country'] == 'ITA']\n",
    "\n",
    "# Calculem la mitja dels punts dels equips de la lliga anglesa\n",
    "eng_mean_pts = eng['Pts'].mean()\n",
    "\n",
    "# Calculem la mitja dels punts dels equips de la lliga italiana\n",
    "ita_mean_pts = ita['Pts'].mean()\n",
    "\n",
    "# Realitzem el test t de Student\n",
    "t_statistic, p_value = ttest_ind(eng['Pts'], ita['Pts'])\n",
    "\n",
    "print(\"P-value:\", p_value)\n",
    "\n",
    "if p_value < 0.05:\n",
    "    print(\"Hi ha una diferència significativa entre els dos grups. Acceptem H1 i rebutgem H0.\")\n",
    "else:\n",
    "    print(\"No hi ha una diferència significativa entre els dos grups. Acceptem H0 i rebutgem H1.\")"
   ]
  },
  {
   "cell_type": "markdown",
   "id": "bc523ed2",
   "metadata": {},
   "source": [
    "# Exercici 2\n",
    "\n",
    "### Amb el mateix dataset selecciona dos altres atributs del conjunt de dades. Calcula els p-valors i digues si rebutgen la hipòtesi nul·la agafant un alfa de 5%."
   ]
  },
  {
   "cell_type": "code",
   "execution_count": 2,
   "id": "67e0e399",
   "metadata": {},
   "outputs": [
    {
     "name": "stdout",
     "output_type": "stream",
     "text": [
      "Correlació de Pearson: 0.48\n",
      "p-valor: 4.6866843474505977e-07\n",
      "Hi ha relació significativa entre el nombre de gols a favor i l'assistència. Acceptem H1 i rebutgem H0.\n"
     ]
    }
   ],
   "source": [
    "# Volem saber si hi ha una relació entre el nombre de gols a favor (GF) i l'assistència (attendance),\n",
    "# podem utilitzar una prova d'hipòtesis estadística com la correlació de Pearson.\n",
    "\n",
    "# L'H0 és que no hi ha relació entre l'assistència i el nombre de gols\n",
    "# L'H1 és que sí que té relació l'assistència a l'estadi amb el nombre de gols marcats per l'equip.\n",
    "\n",
    "# Dades per \"GF\" i \"attendance\"\n",
    "GF = df['GF']\n",
    "attendance = df['Attendance']\n",
    "\n",
    "# Calcular la correlació de Pearson i el p-valor\n",
    "correlation, p_value = pearsonr(GF, attendance)\n",
    "\n",
    "# Imprimir els resultats\n",
    "print(\"Correlació de Pearson:\", round(correlation, 2))\n",
    "print(\"p-valor:\", p_value)\n",
    "\n",
    "if p_value < 0.05:\n",
    "    print(\"Hi ha relació significativa entre el nombre de gols a favor i l'assistència. Acceptem H1 i rebutgem H0.\")\n",
    "else:\n",
    "    print(\"No hi ha una diferència significativa entre el nombre de gols a favor i l'assistència. Acceptem H0 i rebutgem H1.\")"
   ]
  },
  {
   "cell_type": "markdown",
   "id": "60886160",
   "metadata": {},
   "source": [
    "# Exercici 3\n",
    "\n",
    "### Continua amb el conjunt de dades adjunt i selecciona tres atributs del conjunt de dades. Calcula el p-valor i digues si rebutja la hipòtesi nul·la agafant un alfa de 5%.\n",
    "\n"
   ]
  },
  {
   "cell_type": "code",
   "execution_count": 3,
   "id": "6f6f8920",
   "metadata": {},
   "outputs": [
    {
     "name": "stdout",
     "output_type": "stream",
     "text": [
      "p-valor: 0.5842888840010083\n",
      "No hi ha diferències significatives entre les mitjanes dels atributs. Acceptem H0 i rebutgem H1.\n"
     ]
    }
   ],
   "source": [
    "# Volem saber si hi ha una relació entre el nombre de gols a favor (GF), el de gols esperats (xG) i el de punts obtinguts (Pts).\n",
    "# Utilitzarem ANOVA.\n",
    "\n",
    "# L'H0 és que no hi ha relació entre el nombre de gols, el nombre de gols esperats i els punts obtinguts.\n",
    "# L'H1 és que sí que té relació.\n",
    "\n",
    "# Dades per \"GF\" i \"attendance\"GF = df['GF']\n",
    "GF = df['GF']\n",
    "xG = df['xG']\n",
    "Pts = df['Pts']\n",
    "\n",
    "# Realitzar l'ANOVA i calcular el p-valor\n",
    "f_statistic, p_value = f_oneway(GF, xG, Pts)\n",
    "\n",
    "\n",
    "print(\"p-valor:\", p_value)\n",
    "\n",
    "if p_value < 0.05:\n",
    "    print(\"Hi ha diferències significatives entre les mitjanes dels atributs. Acceptem H1 i rebutgem H0.\")\n",
    "else:\n",
    "    print(\"No hi ha diferències significatives entre les mitjanes dels atributs. Acceptem H0 i rebutgem H1.\")"
   ]
  }
 ],
 "metadata": {
  "kernelspec": {
   "display_name": "Python 3 (ipykernel)",
   "language": "python",
   "name": "python3"
  },
  "language_info": {
   "codemirror_mode": {
    "name": "ipython",
    "version": 3
   },
   "file_extension": ".py",
   "mimetype": "text/x-python",
   "name": "python",
   "nbconvert_exporter": "python",
   "pygments_lexer": "ipython3",
   "version": "3.10.9"
  }
 },
 "nbformat": 4,
 "nbformat_minor": 5
}

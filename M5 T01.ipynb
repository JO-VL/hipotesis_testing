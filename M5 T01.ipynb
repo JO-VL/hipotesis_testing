{
 "cells": [
  {
   "cell_type": "markdown",
   "id": "24369ef4",
   "metadata": {},
   "source": [
    "# Exercici 1\n",
    "\n",
    "### Descarrega el dataset adjunt de dades oficials de la UEFA i selecciona un atribut del conjunt de dades. Calcula el p-valor i digues si rebutja la hipòtesi nul·la agafant un alfa de 5%."
   ]
  },
  {
   "cell_type": "code",
   "execution_count": 1,
   "id": "961128ec",
   "metadata": {},
   "outputs": [
    {
     "data": {
      "text/html": [
       "<div>\n",
       "<style scoped>\n",
       "    .dataframe tbody tr th:only-of-type {\n",
       "        vertical-align: middle;\n",
       "    }\n",
       "\n",
       "    .dataframe tbody tr th {\n",
       "        vertical-align: top;\n",
       "    }\n",
       "\n",
       "    .dataframe thead th {\n",
       "        text-align: right;\n",
       "    }\n",
       "</style>\n",
       "<table border=\"1\" class=\"dataframe\">\n",
       "  <thead>\n",
       "    <tr style=\"text-align: right;\">\n",
       "      <th></th>\n",
       "      <th>Rk</th>\n",
       "      <th>Squad</th>\n",
       "      <th>Country</th>\n",
       "      <th>LgRk</th>\n",
       "      <th>MP</th>\n",
       "      <th>W</th>\n",
       "      <th>D</th>\n",
       "      <th>L</th>\n",
       "      <th>GF</th>\n",
       "      <th>GA</th>\n",
       "      <th>...</th>\n",
       "      <th>Pts</th>\n",
       "      <th>Pts/G</th>\n",
       "      <th>xG</th>\n",
       "      <th>xGA</th>\n",
       "      <th>xGD</th>\n",
       "      <th>xGD/90</th>\n",
       "      <th>Last 5</th>\n",
       "      <th>Attendance</th>\n",
       "      <th>Top Team Scorer</th>\n",
       "      <th>Goalkeeper</th>\n",
       "    </tr>\n",
       "  </thead>\n",
       "  <tbody>\n",
       "    <tr>\n",
       "      <th>0</th>\n",
       "      <td>1</td>\n",
       "      <td>Manchester City</td>\n",
       "      <td>ENG</td>\n",
       "      <td>1</td>\n",
       "      <td>37</td>\n",
       "      <td>28</td>\n",
       "      <td>6</td>\n",
       "      <td>3</td>\n",
       "      <td>96</td>\n",
       "      <td>24</td>\n",
       "      <td>...</td>\n",
       "      <td>90</td>\n",
       "      <td>2.43</td>\n",
       "      <td>86.1</td>\n",
       "      <td>26.8</td>\n",
       "      <td>59.3</td>\n",
       "      <td>1.60</td>\n",
       "      <td>W W W W D</td>\n",
       "      <td>52739</td>\n",
       "      <td>Kevin De Bruyne - 15</td>\n",
       "      <td>Ederson</td>\n",
       "    </tr>\n",
       "    <tr>\n",
       "      <th>1</th>\n",
       "      <td>2</td>\n",
       "      <td>Liverpool</td>\n",
       "      <td>ENG</td>\n",
       "      <td>2</td>\n",
       "      <td>36</td>\n",
       "      <td>26</td>\n",
       "      <td>8</td>\n",
       "      <td>2</td>\n",
       "      <td>89</td>\n",
       "      <td>24</td>\n",
       "      <td>...</td>\n",
       "      <td>86</td>\n",
       "      <td>2.39</td>\n",
       "      <td>84.6</td>\n",
       "      <td>33.1</td>\n",
       "      <td>51.4</td>\n",
       "      <td>1.43</td>\n",
       "      <td>W W W D W</td>\n",
       "      <td>53367</td>\n",
       "      <td>Mohamed Salah - 22</td>\n",
       "      <td>Alisson</td>\n",
       "    </tr>\n",
       "    <tr>\n",
       "      <th>2</th>\n",
       "      <td>3</td>\n",
       "      <td>Real Madrid</td>\n",
       "      <td>ESP</td>\n",
       "      <td>1</td>\n",
       "      <td>37</td>\n",
       "      <td>26</td>\n",
       "      <td>7</td>\n",
       "      <td>4</td>\n",
       "      <td>80</td>\n",
       "      <td>31</td>\n",
       "      <td>...</td>\n",
       "      <td>85</td>\n",
       "      <td>2.30</td>\n",
       "      <td>73.0</td>\n",
       "      <td>45.8</td>\n",
       "      <td>27.2</td>\n",
       "      <td>0.73</td>\n",
       "      <td>W W L W D</td>\n",
       "      <td>40624</td>\n",
       "      <td>Karim Benzema - 27</td>\n",
       "      <td>Thibaut Courtois</td>\n",
       "    </tr>\n",
       "    <tr>\n",
       "      <th>3</th>\n",
       "      <td>4</td>\n",
       "      <td>Bayern Munich</td>\n",
       "      <td>GER</td>\n",
       "      <td>1</td>\n",
       "      <td>34</td>\n",
       "      <td>24</td>\n",
       "      <td>5</td>\n",
       "      <td>5</td>\n",
       "      <td>97</td>\n",
       "      <td>37</td>\n",
       "      <td>...</td>\n",
       "      <td>77</td>\n",
       "      <td>2.26</td>\n",
       "      <td>88.1</td>\n",
       "      <td>37.1</td>\n",
       "      <td>51.0</td>\n",
       "      <td>1.50</td>\n",
       "      <td>W W L D D</td>\n",
       "      <td>33176</td>\n",
       "      <td>Robert Lewandowski - 35</td>\n",
       "      <td>Manuel Neuer</td>\n",
       "    </tr>\n",
       "    <tr>\n",
       "      <th>4</th>\n",
       "      <td>5</td>\n",
       "      <td>Paris S-G</td>\n",
       "      <td>FRA</td>\n",
       "      <td>1</td>\n",
       "      <td>37</td>\n",
       "      <td>25</td>\n",
       "      <td>8</td>\n",
       "      <td>4</td>\n",
       "      <td>85</td>\n",
       "      <td>36</td>\n",
       "      <td>...</td>\n",
       "      <td>83</td>\n",
       "      <td>2.24</td>\n",
       "      <td>71.6</td>\n",
       "      <td>38.1</td>\n",
       "      <td>33.4</td>\n",
       "      <td>0.90</td>\n",
       "      <td>W D D D W</td>\n",
       "      <td>41188</td>\n",
       "      <td>Kylian Mbappé - 25</td>\n",
       "      <td>Keylor Navas</td>\n",
       "    </tr>\n",
       "  </tbody>\n",
       "</table>\n",
       "<p>5 rows × 21 columns</p>\n",
       "</div>"
      ],
      "text/plain": [
       "   Rk            Squad Country  LgRk  MP   W  D  L  GF  GA  ...  Pts  Pts/G  \\\n",
       "0   1  Manchester City     ENG     1  37  28  6  3  96  24  ...   90   2.43   \n",
       "1   2        Liverpool     ENG     2  36  26  8  2  89  24  ...   86   2.39   \n",
       "2   3      Real Madrid     ESP     1  37  26  7  4  80  31  ...   85   2.30   \n",
       "3   4    Bayern Munich     GER     1  34  24  5  5  97  37  ...   77   2.26   \n",
       "4   5        Paris S-G     FRA     1  37  25  8  4  85  36  ...   83   2.24   \n",
       "\n",
       "     xG   xGA   xGD  xGD/90     Last 5 Attendance          Top Team Scorer  \\\n",
       "0  86.1  26.8  59.3    1.60  W W W W D      52739     Kevin De Bruyne - 15   \n",
       "1  84.6  33.1  51.4    1.43  W W W D W      53367       Mohamed Salah - 22   \n",
       "2  73.0  45.8  27.2    0.73  W W L W D      40624       Karim Benzema - 27   \n",
       "3  88.1  37.1  51.0    1.50  W W L D D      33176  Robert Lewandowski - 35   \n",
       "4  71.6  38.1  33.4    0.90  W D D D W      41188       Kylian Mbappé - 25   \n",
       "\n",
       "         Goalkeeper  \n",
       "0           Ederson  \n",
       "1           Alisson  \n",
       "2  Thibaut Courtois  \n",
       "3      Manuel Neuer  \n",
       "4      Keylor Navas  \n",
       "\n",
       "[5 rows x 21 columns]"
      ]
     },
     "execution_count": 1,
     "metadata": {},
     "output_type": "execute_result"
    }
   ],
   "source": [
    "import pandas as pd\n",
    "\n",
    "df = pd.read_csv('Lligues europees UEFA.csv', engine='python',  sep=';', encoding = 'latin1')\n",
    "\n",
    "df.head()"
   ]
  },
  {
   "cell_type": "markdown",
   "id": "ff40a74c",
   "metadata": {},
   "source": [
    "Dataset dels equips de les lligues d'Anglaterra, Espanya, Itàlia, Alemania i França amb les següents variables:\n",
    "\n",
    "**'Rk'** = Ranking, **'Squad'** = Equip, **'Country'** = País, **'LgRk'** = Ranking en la seva lliga, **'MP'** = Partits jugats, **'W'** = Victòries, **'D'** = Empats, **'L'** = Derrotes, **'GF'** = Gols a favor, **'GA'** = Gols en contra, **'GD'** = Diferència de gols,**'Pts'** = Punts, **'Pts/G'** = Punts per partit, **'xG'** = Gols esperats a favor, **'xGA'** = Gols esperats en contra,**'xGD'** = Diferència de gols esperats, **'xGD/90'** = Diferència de gols esperats per partits, **'Last 5'** = Últims 5 partits, **'Attendance'** = Assistència, **'Top Team Scorer'** = Màxim golejador de l'equip, **'Goalkeeper'** = porter]"
   ]
  },
  {
   "cell_type": "markdown",
   "id": "991e4768",
   "metadata": {},
   "source": [
    "Volem comprovar si és cert que la lliga anglesa és més ofensiva que l'italiana. Aplicarem un T-test per comparar les mitjanes. Abans d'aplicar-lo haurem de comprobar si les variables són gausianes o no. Per fer això aplicarem el Shapiro-Wilk test."
   ]
  },
  {
   "cell_type": "code",
   "execution_count": 3,
   "id": "804fd2d5",
   "metadata": {},
   "outputs": [
    {
     "name": "stdout",
     "output_type": "stream",
     "text": [
      "p_value = 0.07\n",
      "Probablement Gaussià\n",
      "p_value = 0.79\n",
      "Probablement Gaussià\n"
     ]
    }
   ],
   "source": [
    "from scipy.stats import shapiro\n",
    "\n",
    "# Filtrem les dades dels equips d'Anglaterra\n",
    "\n",
    "eng_equips = df[df['Country'] == 'ENG']\n",
    "\n",
    "# Filtrem els gols a favor dels equips anglesos\n",
    "\n",
    "eng_gols = eng_equips['GF']\n",
    "\n",
    "# Apliquem el test de Shapiro-Wilk\n",
    "\n",
    "statistic, p_value = shapiro(eng_gols)\n",
    "\n",
    "print('p_value = %.2f' % (p_value))\n",
    "\n",
    "if p_value > 0.05:\n",
    "    print('Probablement Gaussià')\n",
    "else:\n",
    "    print('Probablement no-Gaussià')\n",
    "\n",
    "\n",
    "# Filtrem les dades dels equips d'Itàlia\n",
    "\n",
    "ita_equips = df[df['Country'] == 'ITA']\n",
    "\n",
    "# Filtrem els gols a favor dels equips italians\n",
    "\n",
    "ita_gols = ita_equips['GF']\n",
    "\n",
    "# Apliquem el test de Shapiro-Wilk\n",
    "\n",
    "statistic, p_value = shapiro(ita_gols)\n",
    "\n",
    "print('p_value = %.2f' % (p_value))\n",
    "\n",
    "if p_value > 0.05:\n",
    "    print('Probablement Gaussià')\n",
    "else:\n",
    "    print('Probablement no-Gaussià')"
   ]
  },
  {
   "cell_type": "markdown",
   "id": "70ef49a4",
   "metadata": {},
   "source": [
    "Ambdós atributs són gausians, per tant podem fer un T-Test."
   ]
  },
  {
   "cell_type": "code",
   "execution_count": null,
   "id": "f7e2e3be",
   "metadata": {},
   "outputs": [],
   "source": [
    "from scipy.stats import ttest_ind\n",
    "\n",
    "# La H0 és que la mitjana de gols de la lliga italiana i la de la lliga anglesa és la mateixa\n",
    "# La H1 és que no tenen la mateixa mitjana\n",
    "\n",
    "# Realitzem el test t de Student\n",
    "\n",
    "t_statistic, p_value = ttest_ind(eng_gols, ita_gols)\n",
    "\n",
    "print(\"p_value = %.2f\" % p_value)\n",
    "\n",
    "if p_value > 0.05:\n",
    "    print('Probablement la mateixa distribució. Acceptem H0 i rebutgem H1.')\n",
    "else:\n",
    "    print('Probablement diferent distribució. Acceptem H1 i rebutgem H0.')"
   ]
  },
  {
   "cell_type": "markdown",
   "id": "bc523ed2",
   "metadata": {},
   "source": [
    "# Exercici 2\n",
    "\n",
    "### Amb el mateix dataset selecciona dos altres atributs del conjunt de dades. Calcula els p-valors i digues si rebutgen la hipòtesi nul·la agafant un alfa de 5%."
   ]
  },
  {
   "cell_type": "markdown",
   "id": "da93738c",
   "metadata": {},
   "source": [
    "Volem saber si hi ha una relació entre el nombre de gols en contra (GA) i les derrotes (L).\n",
    "Podem utilitzar una prova d'hipòtesis estadística com la correlació de Pearson. Abans d'aplicar-lo haurem de comprobar si les variables són gausianes o no. Per fer això aplicarem el Shapiro-Wilk test."
   ]
  },
  {
   "cell_type": "code",
   "execution_count": 5,
   "id": "67e0e399",
   "metadata": {},
   "outputs": [
    {
     "name": "stdout",
     "output_type": "stream",
     "text": [
      "p_value=0.24\n",
      "Probablement Gaussià\n",
      "p_value=0.56\n",
      "Probablement Gaussià\n"
     ]
    }
   ],
   "source": [
    "# Apliquem el test de Shapiro-Wilk\n",
    "\n",
    "statistic, p_value = shapiro(df['GA'])\n",
    "\n",
    "print('p_value=%.2f' % (p_value))\n",
    "\n",
    "if p_value > 0.05:\n",
    "    print('Probablement Gaussià')\n",
    "else:\n",
    "    print('Probablement no-Gaussià')\n",
    "\n",
    "\n",
    "statistic, p_value = shapiro(df['L'])\n",
    "\n",
    "print('p_value=%.2f' % (p_value))\n",
    "\n",
    "if p_value > 0.05:\n",
    "    print('Probablement Gaussià')\n",
    "else:\n",
    "    print('Probablement no-Gaussià')"
   ]
  },
  {
   "cell_type": "markdown",
   "id": "7d6bdf49",
   "metadata": {},
   "source": [
    "Ambdós atributs són gausians, per tant podem fer un test de correlació de Pearson."
   ]
  },
  {
   "cell_type": "code",
   "execution_count": 9,
   "id": "bc0e8775",
   "metadata": {},
   "outputs": [
    {
     "name": "stdout",
     "output_type": "stream",
     "text": [
      "p_value = 0.00\n",
      "Hi ha relació significativa entre el nombre de gols en contra i les derrotes. Acceptem H1 i rebutgem H0.\n"
     ]
    }
   ],
   "source": [
    "from scipy.stats import pearsonr\n",
    "\n",
    "# L'H0 és que no hi ha relació entre el nombre de gols en contra i les derrotes\n",
    "# L'H1 és que sí que hi ha relació\n",
    "\n",
    "# Calcular la correlació de Pearson i el p-valor\n",
    "stat, p_value = pearsonr(df['GA'], df['L'])\n",
    "\n",
    "print('p_value = %.2f' % (p_value))\n",
    "\n",
    "if p_value > 0.05:\n",
    "    print(\"No hi ha una diferència significativa entre el nombre de gols en contra i les derrotes. Acceptem H0 i rebutgem H1.\")\n",
    "else:\n",
    "    print(\"Hi ha relació significativa entre el nombre de gols en contra i les derrotes. Acceptem H1 i rebutgem H0.\")"
   ]
  },
  {
   "cell_type": "markdown",
   "id": "60886160",
   "metadata": {},
   "source": [
    "# Exercici 3\n",
    "\n",
    "### Continua amb el conjunt de dades adjunt i selecciona tres atributs del conjunt de dades. Calcula el p-valor i digues si rebutja la hipòtesi nul·la agafant un alfa de 5%.\n",
    "\n"
   ]
  },
  {
   "cell_type": "markdown",
   "id": "a5527d3f",
   "metadata": {},
   "source": [
    "Volem saber si hi ha una relació entre el nombre de gols a favor (GF), el de gols esperats (xG) i el de punts obtinguts (Pts).\n",
    "Utilitzarem el Kruskal-Wallis H Test."
   ]
  },
  {
   "cell_type": "code",
   "execution_count": 17,
   "id": "6f6f8920",
   "metadata": {},
   "outputs": [
    {
     "name": "stdout",
     "output_type": "stream",
     "text": [
      "p_value = 0.837\n",
      "Probablement la mateixa distribució. Acceptem H0 i rebutgem H1.\n"
     ]
    }
   ],
   "source": [
    "from scipy.stats import kruskal\n",
    "\n",
    "# L'H0 és que hi ha relació entre el nombre de gols, el nombre de gols esperats i els punts obtinguts\n",
    "# L'H1 és que no hi ha relació.\n",
    "\n",
    "# Dades per \"GF\" i \"attendance\"GF = df['GF']\n",
    "\n",
    "GF = df['GF']\n",
    "xG = df['xG']\n",
    "Pts = df['Pts']\n",
    "\n",
    "# Realitzar el Kruskal-Wallis H Test\n",
    "\n",
    "stat, p = kruskal(GF, xG, Pts)\n",
    "\n",
    "print('p_value = %.3f' % (p))\n",
    "\n",
    "if p > 0.05:\n",
    "    print('Probablement la mateixa distribució. Acceptem H0 i rebutgem H1.')\n",
    "else:\n",
    "    print('Probablement no és la mateixa distribució. Acceptem H1 i rebutgem H0.')"
   ]
  }
 ],
 "metadata": {
  "kernelspec": {
   "display_name": "Python 3 (ipykernel)",
   "language": "python",
   "name": "python3"
  },
  "language_info": {
   "codemirror_mode": {
    "name": "ipython",
    "version": 3
   },
   "file_extension": ".py",
   "mimetype": "text/x-python",
   "name": "python",
   "nbconvert_exporter": "python",
   "pygments_lexer": "ipython3",
   "version": "3.10.9"
  }
 },
 "nbformat": 4,
 "nbformat_minor": 5
}
